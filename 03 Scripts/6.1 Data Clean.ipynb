{
 "cells": [
  {
   "cell_type": "markdown",
   "id": "98f084ab-90b2-4b0c-8e65-95ca6250562c",
   "metadata": {},
   "source": [
    "# Data Check & Cleaning"
   ]
  },
  {
   "cell_type": "markdown",
   "id": "2d533a26-0959-42cf-98fe-4fb4ae888417",
   "metadata": {},
   "source": [
    "### 01. Import Libraries"
   ]
  },
  {
   "cell_type": "code",
   "execution_count": 175,
   "id": "9f23bbb6-e9b0-4952-8887-809e8ccf02b4",
   "metadata": {},
   "outputs": [],
   "source": [
    "# import\n",
    "import pandas as pd\n",
    "import numpy as np\n",
    "import os"
   ]
  },
  {
   "cell_type": "markdown",
   "id": "670f60e2-6c13-4657-88d2-244a44b74a5b",
   "metadata": {},
   "source": [
    "### 02. Path Creation"
   ]
  },
  {
   "cell_type": "code",
   "execution_count": 177,
   "id": "38ad2536-d37b-443c-97e0-6e1b6dbda66c",
   "metadata": {},
   "outputs": [],
   "source": [
    "data_path = r'/Users/renatabatista/Other Docs/Germany/CareerFoundry/Data Imersion/4. Python/26-05-2025 BR e-commerce'"
   ]
  },
  {
   "cell_type": "markdown",
   "id": "ff7e15a3-b516-4f47-b7ce-93361eb42d5c",
   "metadata": {},
   "source": [
    "### 03. load Data"
   ]
  },
  {
   "cell_type": "code",
   "execution_count": 179,
   "id": "0b0f4893-0c7f-49e9-8fbb-25f1a44aa461",
   "metadata": {},
   "outputs": [],
   "source": [
    "customer = pd.read_csv(os.path.join(data_path, '02 Data', 'Original Data', 'olist_customers_dataset.csv'), index_col = False)"
   ]
  },
  {
   "cell_type": "code",
   "execution_count": 180,
   "id": "d40d0963-a011-4e54-ab08-b713c7d5386d",
   "metadata": {},
   "outputs": [],
   "source": [
    "geolocation = pd.read_csv(os.path.join(data_path, '02 Data', 'Original Data', 'olist_geolocation_dataset.csv'), index_col = False)"
   ]
  },
  {
   "cell_type": "code",
   "execution_count": 181,
   "id": "790a34c3-dc4d-42ca-a8ec-d791b456b9d7",
   "metadata": {},
   "outputs": [],
   "source": [
    "order_items = pd.read_csv(os.path.join(data_path, '02 Data', 'Original Data', 'olist_order_items_dataset.csv'), index_col = False)"
   ]
  },
  {
   "cell_type": "code",
   "execution_count": 182,
   "id": "4503595e-0643-4972-a7da-cf45b5185442",
   "metadata": {},
   "outputs": [],
   "source": [
    "orders = pd.read_csv(os.path.join(data_path, '02 Data', 'Original Data', 'olist_orders_dataset.csv'), index_col = False)"
   ]
  },
  {
   "cell_type": "code",
   "execution_count": 183,
   "id": "c336cbd0-2f0d-462f-b9fb-1a9d841987c7",
   "metadata": {},
   "outputs": [],
   "source": [
    "order_payments = pd.read_csv(os.path.join(data_path, '02 Data', 'Original Data', 'olist_order_payments_dataset.csv'), index_col = False)"
   ]
  },
  {
   "cell_type": "code",
   "execution_count": 184,
   "id": "7346d846-3f39-450b-b57b-d9f4bdac3fe1",
   "metadata": {},
   "outputs": [],
   "source": [
    "order_reviews = pd.read_csv(os.path.join(data_path, '02 Data', 'Original Data', 'olist_order_reviews_dataset.csv'), index_col = False)"
   ]
  },
  {
   "cell_type": "code",
   "execution_count": 185,
   "id": "d97e9bf8-2fbd-4373-8816-9950ca52db0f",
   "metadata": {},
   "outputs": [],
   "source": [
    "sellers = pd.read_csv(os.path.join(data_path, '02 Data', 'Original Data', 'olist_sellers_dataset.csv'), index_col = False)"
   ]
  },
  {
   "cell_type": "code",
   "execution_count": 186,
   "id": "6c10704a-df23-4161-93c1-9a02de80bbaa",
   "metadata": {},
   "outputs": [],
   "source": [
    "product_categories = pd.read_csv(os.path.join(data_path, '02 Data', 'Original Data', 'product_category_name_translation.csv'), index_col = False)"
   ]
  },
  {
   "cell_type": "code",
   "execution_count": 187,
   "id": "bd131488-b65f-45e4-ab6f-f07ad021de59",
   "metadata": {},
   "outputs": [],
   "source": [
    "products = pd.read_csv(os.path.join(data_path, '02 Data', 'Original Data', 'olist_products_dataset.csv'), index_col = False)"
   ]
  },
  {
   "cell_type": "markdown",
   "id": "181c8a36-1c80-4afc-a575-441b9ce5d909",
   "metadata": {},
   "source": [
    "## 04 Data Shape "
   ]
  },
  {
   "cell_type": "code",
   "execution_count": 189,
   "id": "fdb840e7-fceb-42af-9ed9-e111a62d0d06",
   "metadata": {},
   "outputs": [
    {
     "data": {
      "text/plain": [
       "(99441, 5)"
      ]
     },
     "execution_count": 189,
     "metadata": {},
     "output_type": "execute_result"
    }
   ],
   "source": [
    "customer.shape"
   ]
  },
  {
   "cell_type": "code",
   "execution_count": 190,
   "id": "9ea8350b-2677-43a4-b28f-dd6184a4384f",
   "metadata": {},
   "outputs": [
    {
     "data": {
      "text/plain": [
       "(1000163, 5)"
      ]
     },
     "execution_count": 190,
     "metadata": {},
     "output_type": "execute_result"
    }
   ],
   "source": [
    "geolocation.shape"
   ]
  },
  {
   "cell_type": "code",
   "execution_count": 191,
   "id": "feeeac99-3a76-4f29-8b95-7528dfd65408",
   "metadata": {},
   "outputs": [
    {
     "data": {
      "text/plain": [
       "(112650, 7)"
      ]
     },
     "execution_count": 191,
     "metadata": {},
     "output_type": "execute_result"
    }
   ],
   "source": [
    "order_items.shape"
   ]
  },
  {
   "cell_type": "code",
   "execution_count": 192,
   "id": "6e52a476-54f3-4d48-ae33-c234cdb1ea0e",
   "metadata": {},
   "outputs": [
    {
     "data": {
      "text/plain": [
       "(99441, 8)"
      ]
     },
     "execution_count": 192,
     "metadata": {},
     "output_type": "execute_result"
    }
   ],
   "source": [
    "orders.shape"
   ]
  },
  {
   "cell_type": "code",
   "execution_count": 193,
   "id": "1ede07d2-b96d-4a8c-a718-8b8b5258ee9b",
   "metadata": {},
   "outputs": [
    {
     "data": {
      "text/plain": [
       "(103886, 5)"
      ]
     },
     "execution_count": 193,
     "metadata": {},
     "output_type": "execute_result"
    }
   ],
   "source": [
    "order_payments.shape"
   ]
  },
  {
   "cell_type": "code",
   "execution_count": 194,
   "id": "c324af38-a34d-4a90-bd54-ec7ea4161d0e",
   "metadata": {},
   "outputs": [
    {
     "data": {
      "text/plain": [
       "(99224, 7)"
      ]
     },
     "execution_count": 194,
     "metadata": {},
     "output_type": "execute_result"
    }
   ],
   "source": [
    "order_reviews.shape"
   ]
  },
  {
   "cell_type": "code",
   "execution_count": 195,
   "id": "2f8a232b-ca77-4ff1-89c4-60cee05c5fd8",
   "metadata": {},
   "outputs": [
    {
     "data": {
      "text/plain": [
       "(3095, 4)"
      ]
     },
     "execution_count": 195,
     "metadata": {},
     "output_type": "execute_result"
    }
   ],
   "source": [
    "sellers.shape"
   ]
  },
  {
   "cell_type": "code",
   "execution_count": 196,
   "id": "a21242de-b36f-4fff-a6b5-066d6b3eab43",
   "metadata": {},
   "outputs": [
    {
     "data": {
      "text/plain": [
       "(71, 2)"
      ]
     },
     "execution_count": 196,
     "metadata": {},
     "output_type": "execute_result"
    }
   ],
   "source": [
    "product_categories.shape"
   ]
  },
  {
   "cell_type": "code",
   "execution_count": 197,
   "id": "ca6c6544-b277-4f1f-ab2e-4d12e0414f44",
   "metadata": {},
   "outputs": [
    {
     "data": {
      "text/plain": [
       "(32951, 9)"
      ]
     },
     "execution_count": 197,
     "metadata": {},
     "output_type": "execute_result"
    }
   ],
   "source": [
    "products.shape"
   ]
  },
  {
   "cell_type": "markdown",
   "id": "e9314e5c-4ecc-4fcf-943f-0213bf39d630",
   "metadata": {},
   "source": [
    "## 05 Data Check Function"
   ]
  },
  {
   "cell_type": "code",
   "execution_count": 199,
   "id": "6cd93e17-2872-42d8-8a35-b5a2c7ebdd75",
   "metadata": {},
   "outputs": [],
   "source": [
    "def check_dataframe(df, name):\n",
    "    print(f\"\\n---{name}---\")\n",
    "    print(\"Shape:\", df.shape)\n",
    "    print(\"Columns:\", df.columns.tolist())\n",
    "    print(\"Info:\")\n",
    "    print(df.info())\n",
    "    print(\"\\nMissing values:\\n\", df.isnull().sum())\n",
    "    print(\"\\nDuplicated rows:\", df.duplicated().sum())\n",
    "    print(\"\\nFirst 5 rows:\\n\", df.head())"
   ]
  },
  {
   "cell_type": "code",
   "execution_count": 200,
   "id": "4350c68a-4443-41c7-868b-3be69611e5c6",
   "metadata": {},
   "outputs": [
    {
     "name": "stdout",
     "output_type": "stream",
     "text": [
      "\n",
      "---Customers---\n",
      "Shape: (99441, 5)\n",
      "Columns: ['customer_id', 'customer_unique_id', 'customer_zip_code_prefix', 'customer_city', 'customer_state']\n",
      "Info:\n",
      "<class 'pandas.core.frame.DataFrame'>\n",
      "RangeIndex: 99441 entries, 0 to 99440\n",
      "Data columns (total 5 columns):\n",
      " #   Column                    Non-Null Count  Dtype \n",
      "---  ------                    --------------  ----- \n",
      " 0   customer_id               99441 non-null  object\n",
      " 1   customer_unique_id        99441 non-null  object\n",
      " 2   customer_zip_code_prefix  99441 non-null  int64 \n",
      " 3   customer_city             99441 non-null  object\n",
      " 4   customer_state            99441 non-null  object\n",
      "dtypes: int64(1), object(4)\n",
      "memory usage: 3.8+ MB\n",
      "None\n",
      "\n",
      "Missing values:\n",
      " customer_id                 0\n",
      "customer_unique_id          0\n",
      "customer_zip_code_prefix    0\n",
      "customer_city               0\n",
      "customer_state              0\n",
      "dtype: int64\n",
      "\n",
      "Duplicated rows: 0\n",
      "\n",
      "First 5 rows:\n",
      "                         customer_id                customer_unique_id  \\\n",
      "0  06b8999e2fba1a1fbc88172c00ba8bc7  861eff4711a542e4b93843c6dd7febb0   \n",
      "1  18955e83d337fd6b2def6b18a428ac77  290c77bc529b7ac935b93aa66c333dc3   \n",
      "2  4e7b3e00288586ebd08712fdd0374a03  060e732b5b29e8181a18229c7b0b2b5e   \n",
      "3  b2b6027bc5c5109e529d4dc6358b12c3  259dac757896d24d7702b9acbbff3f3c   \n",
      "4  4f2d8ab171c80ec8364f7c12e35b23ad  345ecd01c38d18a9036ed96c73b8d066   \n",
      "\n",
      "   customer_zip_code_prefix          customer_city customer_state  \n",
      "0                     14409                 franca             SP  \n",
      "1                      9790  sao bernardo do campo             SP  \n",
      "2                      1151              sao paulo             SP  \n",
      "3                      8775        mogi das cruzes             SP  \n",
      "4                     13056               campinas             SP  \n"
     ]
    }
   ],
   "source": [
    "# check dataframe\n",
    "check_dataframe(customer, \"Customers\")"
   ]
  },
  {
   "cell_type": "code",
   "execution_count": 201,
   "id": "63bbe245-c4f0-4bb6-8761-d4ea7f73a18e",
   "metadata": {},
   "outputs": [
    {
     "name": "stdout",
     "output_type": "stream",
     "text": [
      "\n",
      "---Geolocation---\n",
      "Shape: (1000163, 5)\n",
      "Columns: ['geolocation_zip_code_prefix', 'geolocation_lat', 'geolocation_lng', 'geolocation_city', 'geolocation_state']\n",
      "Info:\n",
      "<class 'pandas.core.frame.DataFrame'>\n",
      "RangeIndex: 1000163 entries, 0 to 1000162\n",
      "Data columns (total 5 columns):\n",
      " #   Column                       Non-Null Count    Dtype  \n",
      "---  ------                       --------------    -----  \n",
      " 0   geolocation_zip_code_prefix  1000163 non-null  int64  \n",
      " 1   geolocation_lat              1000163 non-null  float64\n",
      " 2   geolocation_lng              1000163 non-null  float64\n",
      " 3   geolocation_city             1000163 non-null  object \n",
      " 4   geolocation_state            1000163 non-null  object \n",
      "dtypes: float64(2), int64(1), object(2)\n",
      "memory usage: 38.2+ MB\n",
      "None\n",
      "\n",
      "Missing values:\n",
      " geolocation_zip_code_prefix    0\n",
      "geolocation_lat                0\n",
      "geolocation_lng                0\n",
      "geolocation_city               0\n",
      "geolocation_state              0\n",
      "dtype: int64\n",
      "\n",
      "Duplicated rows: 261831\n",
      "\n",
      "First 5 rows:\n",
      "    geolocation_zip_code_prefix  geolocation_lat  geolocation_lng  \\\n",
      "0                         1037       -23.545621       -46.639292   \n",
      "1                         1046       -23.546081       -46.644820   \n",
      "2                         1046       -23.546129       -46.642951   \n",
      "3                         1041       -23.544392       -46.639499   \n",
      "4                         1035       -23.541578       -46.641607   \n",
      "\n",
      "  geolocation_city geolocation_state  \n",
      "0        sao paulo                SP  \n",
      "1        sao paulo                SP  \n",
      "2        sao paulo                SP  \n",
      "3        sao paulo                SP  \n",
      "4        sao paulo                SP  \n"
     ]
    }
   ],
   "source": [
    "check_dataframe(geolocation, \"Geolocation\")"
   ]
  },
  {
   "cell_type": "code",
   "execution_count": 202,
   "id": "66f9426c-7752-4300-a417-a37e7a57a8fe",
   "metadata": {},
   "outputs": [
    {
     "name": "stdout",
     "output_type": "stream",
     "text": [
      "\n",
      "---Order Items---\n",
      "Shape: (112650, 7)\n",
      "Columns: ['order_id', 'order_item_id', 'product_id', 'seller_id', 'shipping_limit_date', 'price', 'freight_value']\n",
      "Info:\n",
      "<class 'pandas.core.frame.DataFrame'>\n",
      "RangeIndex: 112650 entries, 0 to 112649\n",
      "Data columns (total 7 columns):\n",
      " #   Column               Non-Null Count   Dtype  \n",
      "---  ------               --------------   -----  \n",
      " 0   order_id             112650 non-null  object \n",
      " 1   order_item_id        112650 non-null  int64  \n",
      " 2   product_id           112650 non-null  object \n",
      " 3   seller_id            112650 non-null  object \n",
      " 4   shipping_limit_date  112650 non-null  object \n",
      " 5   price                112650 non-null  float64\n",
      " 6   freight_value        112650 non-null  float64\n",
      "dtypes: float64(2), int64(1), object(4)\n",
      "memory usage: 6.0+ MB\n",
      "None\n",
      "\n",
      "Missing values:\n",
      " order_id               0\n",
      "order_item_id          0\n",
      "product_id             0\n",
      "seller_id              0\n",
      "shipping_limit_date    0\n",
      "price                  0\n",
      "freight_value          0\n",
      "dtype: int64\n",
      "\n",
      "Duplicated rows: 0\n",
      "\n",
      "First 5 rows:\n",
      "                            order_id  order_item_id  \\\n",
      "0  00010242fe8c5a6d1ba2dd792cb16214              1   \n",
      "1  00018f77f2f0320c557190d7a144bdd3              1   \n",
      "2  000229ec398224ef6ca0657da4fc703e              1   \n",
      "3  00024acbcdf0a6daa1e931b038114c75              1   \n",
      "4  00042b26cf59d7ce69dfabb4e55b4fd9              1   \n",
      "\n",
      "                         product_id                         seller_id  \\\n",
      "0  4244733e06e7ecb4970a6e2683c13e61  48436dade18ac8b2bce089ec2a041202   \n",
      "1  e5f2d52b802189ee658865ca93d83a8f  dd7ddc04e1b6c2c614352b383efe2d36   \n",
      "2  c777355d18b72b67abbeef9df44fd0fd  5b51032eddd242adc84c38acab88f23d   \n",
      "3  7634da152a4610f1595efa32f14722fc  9d7a1d34a5052409006425275ba1c2b4   \n",
      "4  ac6c3623068f30de03045865e4e10089  df560393f3a51e74553ab94004ba5c87   \n",
      "\n",
      "   shipping_limit_date   price  freight_value  \n",
      "0  2017-09-19 09:45:35   58.90          13.29  \n",
      "1  2017-05-03 11:05:13  239.90          19.93  \n",
      "2  2018-01-18 14:48:30  199.00          17.87  \n",
      "3  2018-08-15 10:10:18   12.99          12.79  \n",
      "4  2017-02-13 13:57:51  199.90          18.14  \n"
     ]
    }
   ],
   "source": [
    "check_dataframe(order_items, \"Order Items\")"
   ]
  },
  {
   "cell_type": "code",
   "execution_count": 203,
   "id": "8b327e49-e48e-469c-bd39-1f1c42dc79a7",
   "metadata": {},
   "outputs": [
    {
     "name": "stdout",
     "output_type": "stream",
     "text": [
      "\n",
      "---Orders---\n",
      "Shape: (99441, 8)\n",
      "Columns: ['order_id', 'customer_id', 'order_status', 'order_purchase_timestamp', 'order_approved_at', 'order_delivered_carrier_date', 'order_delivered_customer_date', 'order_estimated_delivery_date']\n",
      "Info:\n",
      "<class 'pandas.core.frame.DataFrame'>\n",
      "RangeIndex: 99441 entries, 0 to 99440\n",
      "Data columns (total 8 columns):\n",
      " #   Column                         Non-Null Count  Dtype \n",
      "---  ------                         --------------  ----- \n",
      " 0   order_id                       99441 non-null  object\n",
      " 1   customer_id                    99441 non-null  object\n",
      " 2   order_status                   99441 non-null  object\n",
      " 3   order_purchase_timestamp       99441 non-null  object\n",
      " 4   order_approved_at              99281 non-null  object\n",
      " 5   order_delivered_carrier_date   97658 non-null  object\n",
      " 6   order_delivered_customer_date  96476 non-null  object\n",
      " 7   order_estimated_delivery_date  99441 non-null  object\n",
      "dtypes: object(8)\n",
      "memory usage: 6.1+ MB\n",
      "None\n",
      "\n",
      "Missing values:\n",
      " order_id                            0\n",
      "customer_id                         0\n",
      "order_status                        0\n",
      "order_purchase_timestamp            0\n",
      "order_approved_at                 160\n",
      "order_delivered_carrier_date     1783\n",
      "order_delivered_customer_date    2965\n",
      "order_estimated_delivery_date       0\n",
      "dtype: int64\n",
      "\n",
      "Duplicated rows: 0\n",
      "\n",
      "First 5 rows:\n",
      "                            order_id                       customer_id  \\\n",
      "0  e481f51cbdc54678b7cc49136f2d6af7  9ef432eb6251297304e76186b10a928d   \n",
      "1  53cdb2fc8bc7dce0b6741e2150273451  b0830fb4747a6c6d20dea0b8c802d7ef   \n",
      "2  47770eb9100c2d0c44946d9cf07ec65d  41ce2a54c0b03bf3443c3d931a367089   \n",
      "3  949d5b44dbf5de918fe9c16f97b45f8a  f88197465ea7920adcdbec7375364d82   \n",
      "4  ad21c59c0840e6cb83a9ceb5573f8159  8ab97904e6daea8866dbdbc4fb7aad2c   \n",
      "\n",
      "  order_status order_purchase_timestamp    order_approved_at  \\\n",
      "0    delivered      2017-10-02 10:56:33  2017-10-02 11:07:15   \n",
      "1    delivered      2018-07-24 20:41:37  2018-07-26 03:24:27   \n",
      "2    delivered      2018-08-08 08:38:49  2018-08-08 08:55:23   \n",
      "3    delivered      2017-11-18 19:28:06  2017-11-18 19:45:59   \n",
      "4    delivered      2018-02-13 21:18:39  2018-02-13 22:20:29   \n",
      "\n",
      "  order_delivered_carrier_date order_delivered_customer_date  \\\n",
      "0          2017-10-04 19:55:00           2017-10-10 21:25:13   \n",
      "1          2018-07-26 14:31:00           2018-08-07 15:27:45   \n",
      "2          2018-08-08 13:50:00           2018-08-17 18:06:29   \n",
      "3          2017-11-22 13:39:59           2017-12-02 00:28:42   \n",
      "4          2018-02-14 19:46:34           2018-02-16 18:17:02   \n",
      "\n",
      "  order_estimated_delivery_date  \n",
      "0           2017-10-18 00:00:00  \n",
      "1           2018-08-13 00:00:00  \n",
      "2           2018-09-04 00:00:00  \n",
      "3           2017-12-15 00:00:00  \n",
      "4           2018-02-26 00:00:00  \n"
     ]
    }
   ],
   "source": [
    "check_dataframe(orders, \"Orders\")"
   ]
  },
  {
   "cell_type": "code",
   "execution_count": 204,
   "id": "63696d07-83dd-44a4-a6a8-d1b139dcaf1d",
   "metadata": {},
   "outputs": [
    {
     "name": "stdout",
     "output_type": "stream",
     "text": [
      "\n",
      "---Order Payments---\n",
      "Shape: (103886, 5)\n",
      "Columns: ['order_id', 'payment_sequential', 'payment_type', 'payment_installments', 'payment_value']\n",
      "Info:\n",
      "<class 'pandas.core.frame.DataFrame'>\n",
      "RangeIndex: 103886 entries, 0 to 103885\n",
      "Data columns (total 5 columns):\n",
      " #   Column                Non-Null Count   Dtype  \n",
      "---  ------                --------------   -----  \n",
      " 0   order_id              103886 non-null  object \n",
      " 1   payment_sequential    103886 non-null  int64  \n",
      " 2   payment_type          103886 non-null  object \n",
      " 3   payment_installments  103886 non-null  int64  \n",
      " 4   payment_value         103886 non-null  float64\n",
      "dtypes: float64(1), int64(2), object(2)\n",
      "memory usage: 4.0+ MB\n",
      "None\n",
      "\n",
      "Missing values:\n",
      " order_id                0\n",
      "payment_sequential      0\n",
      "payment_type            0\n",
      "payment_installments    0\n",
      "payment_value           0\n",
      "dtype: int64\n",
      "\n",
      "Duplicated rows: 0\n",
      "\n",
      "First 5 rows:\n",
      "                            order_id  payment_sequential payment_type  \\\n",
      "0  b81ef226f3fe1789b1e8b2acac839d17                   1  credit_card   \n",
      "1  a9810da82917af2d9aefd1278f1dcfa0                   1  credit_card   \n",
      "2  25e8ea4e93396b6fa0d3dd708e76c1bd                   1  credit_card   \n",
      "3  ba78997921bbcdc1373bb41e913ab953                   1  credit_card   \n",
      "4  42fdf880ba16b47b59251dd489d4441a                   1  credit_card   \n",
      "\n",
      "   payment_installments  payment_value  \n",
      "0                     8          99.33  \n",
      "1                     1          24.39  \n",
      "2                     1          65.71  \n",
      "3                     8         107.78  \n",
      "4                     2         128.45  \n"
     ]
    }
   ],
   "source": [
    "check_dataframe(order_payments, \"Order Payments\")"
   ]
  },
  {
   "cell_type": "code",
   "execution_count": 205,
   "id": "769ec011-8743-4041-a652-3068de699922",
   "metadata": {},
   "outputs": [
    {
     "name": "stdout",
     "output_type": "stream",
     "text": [
      "\n",
      "---Order Reviews---\n",
      "Shape: (99224, 7)\n",
      "Columns: ['review_id', 'order_id', 'review_score', 'review_comment_title', 'review_comment_message', 'review_creation_date', 'review_answer_timestamp']\n",
      "Info:\n",
      "<class 'pandas.core.frame.DataFrame'>\n",
      "RangeIndex: 99224 entries, 0 to 99223\n",
      "Data columns (total 7 columns):\n",
      " #   Column                   Non-Null Count  Dtype \n",
      "---  ------                   --------------  ----- \n",
      " 0   review_id                99224 non-null  object\n",
      " 1   order_id                 99224 non-null  object\n",
      " 2   review_score             99224 non-null  int64 \n",
      " 3   review_comment_title     11568 non-null  object\n",
      " 4   review_comment_message   40977 non-null  object\n",
      " 5   review_creation_date     99224 non-null  object\n",
      " 6   review_answer_timestamp  99224 non-null  object\n",
      "dtypes: int64(1), object(6)\n",
      "memory usage: 5.3+ MB\n",
      "None\n",
      "\n",
      "Missing values:\n",
      " review_id                      0\n",
      "order_id                       0\n",
      "review_score                   0\n",
      "review_comment_title       87656\n",
      "review_comment_message     58247\n",
      "review_creation_date           0\n",
      "review_answer_timestamp        0\n",
      "dtype: int64\n",
      "\n",
      "Duplicated rows: 0\n",
      "\n",
      "First 5 rows:\n",
      "                           review_id                          order_id  \\\n",
      "0  7bc2406110b926393aa56f80a40eba40  73fc7af87114b39712e6da79b0a377eb   \n",
      "1  80e641a11e56f04c1ad469d5645fdfde  a548910a1c6147796b98fdf73dbeba33   \n",
      "2  228ce5500dc1d8e020d8d1322874b6f0  f9e4b658b201a9f2ecdecbb34bed034b   \n",
      "3  e64fb393e7b32834bb789ff8bb30750e  658677c97b385a9be170737859d3511b   \n",
      "4  f7c4243c7fe1938f181bec41a392bdeb  8e6bfb81e283fa7e4f11123a3fb894f1   \n",
      "\n",
      "   review_score review_comment_title  \\\n",
      "0             4                  NaN   \n",
      "1             5                  NaN   \n",
      "2             5                  NaN   \n",
      "3             5                  NaN   \n",
      "4             5                  NaN   \n",
      "\n",
      "                              review_comment_message review_creation_date  \\\n",
      "0                                                NaN  2018-01-18 00:00:00   \n",
      "1                                                NaN  2018-03-10 00:00:00   \n",
      "2                                                NaN  2018-02-17 00:00:00   \n",
      "3              Recebi bem antes do prazo estipulado.  2017-04-21 00:00:00   \n",
      "4  Parabéns lojas lannister adorei comprar pela I...  2018-03-01 00:00:00   \n",
      "\n",
      "  review_answer_timestamp  \n",
      "0     2018-01-18 21:46:59  \n",
      "1     2018-03-11 03:05:13  \n",
      "2     2018-02-18 14:36:24  \n",
      "3     2017-04-21 22:02:06  \n",
      "4     2018-03-02 10:26:53  \n"
     ]
    }
   ],
   "source": [
    "check_dataframe(order_reviews, \"Order Reviews\")"
   ]
  },
  {
   "cell_type": "code",
   "execution_count": 206,
   "id": "83f98ba3-cf84-4e05-872d-173ace0d4f7c",
   "metadata": {},
   "outputs": [
    {
     "name": "stdout",
     "output_type": "stream",
     "text": [
      "\n",
      "---Sellers---\n",
      "Shape: (3095, 4)\n",
      "Columns: ['seller_id', 'seller_zip_code_prefix', 'seller_city', 'seller_state']\n",
      "Info:\n",
      "<class 'pandas.core.frame.DataFrame'>\n",
      "RangeIndex: 3095 entries, 0 to 3094\n",
      "Data columns (total 4 columns):\n",
      " #   Column                  Non-Null Count  Dtype \n",
      "---  ------                  --------------  ----- \n",
      " 0   seller_id               3095 non-null   object\n",
      " 1   seller_zip_code_prefix  3095 non-null   int64 \n",
      " 2   seller_city             3095 non-null   object\n",
      " 3   seller_state            3095 non-null   object\n",
      "dtypes: int64(1), object(3)\n",
      "memory usage: 96.8+ KB\n",
      "None\n",
      "\n",
      "Missing values:\n",
      " seller_id                 0\n",
      "seller_zip_code_prefix    0\n",
      "seller_city               0\n",
      "seller_state              0\n",
      "dtype: int64\n",
      "\n",
      "Duplicated rows: 0\n",
      "\n",
      "First 5 rows:\n",
      "                           seller_id  seller_zip_code_prefix  \\\n",
      "0  3442f8959a84dea7ee197c632cb2df15                   13023   \n",
      "1  d1b65fc7debc3361ea86b5f14c68d2e2                   13844   \n",
      "2  ce3ad9de960102d0677a81f5d0bb7b2d                   20031   \n",
      "3  c0f3eea2e14555b6faeea3dd58c1b1c3                    4195   \n",
      "4  51a04a8a6bdcb23deccc82b0b80742cf                   12914   \n",
      "\n",
      "         seller_city seller_state  \n",
      "0           campinas           SP  \n",
      "1         mogi guacu           SP  \n",
      "2     rio de janeiro           RJ  \n",
      "3          sao paulo           SP  \n",
      "4  braganca paulista           SP  \n"
     ]
    }
   ],
   "source": [
    "check_dataframe(sellers, \"Sellers\")"
   ]
  },
  {
   "cell_type": "code",
   "execution_count": 207,
   "id": "17860bf1-fb01-4e17-9d61-742dae0caea3",
   "metadata": {},
   "outputs": [
    {
     "name": "stdout",
     "output_type": "stream",
     "text": [
      "\n",
      "---Product Categories---\n",
      "Shape: (71, 2)\n",
      "Columns: ['product_category_name', 'product_category_name_english']\n",
      "Info:\n",
      "<class 'pandas.core.frame.DataFrame'>\n",
      "RangeIndex: 71 entries, 0 to 70\n",
      "Data columns (total 2 columns):\n",
      " #   Column                         Non-Null Count  Dtype \n",
      "---  ------                         --------------  ----- \n",
      " 0   product_category_name          71 non-null     object\n",
      " 1   product_category_name_english  71 non-null     object\n",
      "dtypes: object(2)\n",
      "memory usage: 1.2+ KB\n",
      "None\n",
      "\n",
      "Missing values:\n",
      " product_category_name            0\n",
      "product_category_name_english    0\n",
      "dtype: int64\n",
      "\n",
      "Duplicated rows: 0\n",
      "\n",
      "First 5 rows:\n",
      "     product_category_name product_category_name_english\n",
      "0            beleza_saude                 health_beauty\n",
      "1  informatica_acessorios         computers_accessories\n",
      "2              automotivo                          auto\n",
      "3         cama_mesa_banho                bed_bath_table\n",
      "4        moveis_decoracao               furniture_decor\n"
     ]
    }
   ],
   "source": [
    "check_dataframe(product_categories, \"Product Categories\")"
   ]
  },
  {
   "cell_type": "code",
   "execution_count": 208,
   "id": "5a48407c-41be-4db3-ad9d-afe0e02fd799",
   "metadata": {},
   "outputs": [
    {
     "name": "stdout",
     "output_type": "stream",
     "text": [
      "\n",
      "---Products---\n",
      "Shape: (32951, 9)\n",
      "Columns: ['product_id', 'product_category_name', 'product_name_lenght', 'product_description_lenght', 'product_photos_qty', 'product_weight_g', 'product_length_cm', 'product_height_cm', 'product_width_cm']\n",
      "Info:\n",
      "<class 'pandas.core.frame.DataFrame'>\n",
      "RangeIndex: 32951 entries, 0 to 32950\n",
      "Data columns (total 9 columns):\n",
      " #   Column                      Non-Null Count  Dtype  \n",
      "---  ------                      --------------  -----  \n",
      " 0   product_id                  32951 non-null  object \n",
      " 1   product_category_name       32341 non-null  object \n",
      " 2   product_name_lenght         32341 non-null  float64\n",
      " 3   product_description_lenght  32341 non-null  float64\n",
      " 4   product_photos_qty          32341 non-null  float64\n",
      " 5   product_weight_g            32949 non-null  float64\n",
      " 6   product_length_cm           32949 non-null  float64\n",
      " 7   product_height_cm           32949 non-null  float64\n",
      " 8   product_width_cm            32949 non-null  float64\n",
      "dtypes: float64(7), object(2)\n",
      "memory usage: 2.3+ MB\n",
      "None\n",
      "\n",
      "Missing values:\n",
      " product_id                      0\n",
      "product_category_name         610\n",
      "product_name_lenght           610\n",
      "product_description_lenght    610\n",
      "product_photos_qty            610\n",
      "product_weight_g                2\n",
      "product_length_cm               2\n",
      "product_height_cm               2\n",
      "product_width_cm                2\n",
      "dtype: int64\n",
      "\n",
      "Duplicated rows: 0\n",
      "\n",
      "First 5 rows:\n",
      "                          product_id  product_category_name  \\\n",
      "0  1e9e8ef04dbcff4541ed26657ea517e5             perfumaria   \n",
      "1  3aa071139cb16b67ca9e5dea641aaa2f                  artes   \n",
      "2  96bd76ec8810374ed1b65e291975717f          esporte_lazer   \n",
      "3  cef67bcfe19066a932b7673e239eb23d                  bebes   \n",
      "4  9dc1a7de274444849c219cff195d0b71  utilidades_domesticas   \n",
      "\n",
      "   product_name_lenght  product_description_lenght  product_photos_qty  \\\n",
      "0                 40.0                       287.0                 1.0   \n",
      "1                 44.0                       276.0                 1.0   \n",
      "2                 46.0                       250.0                 1.0   \n",
      "3                 27.0                       261.0                 1.0   \n",
      "4                 37.0                       402.0                 4.0   \n",
      "\n",
      "   product_weight_g  product_length_cm  product_height_cm  product_width_cm  \n",
      "0             225.0               16.0               10.0              14.0  \n",
      "1            1000.0               30.0               18.0              20.0  \n",
      "2             154.0               18.0                9.0              15.0  \n",
      "3             371.0               26.0                4.0              26.0  \n",
      "4             625.0               20.0               17.0              13.0  \n"
     ]
    }
   ],
   "source": [
    "check_dataframe(products, \"Products\")"
   ]
  },
  {
   "cell_type": "code",
   "execution_count": 209,
   "id": "cf18ddbd-fe9d-480e-a4dd-08ac01bd0b5b",
   "metadata": {},
   "outputs": [],
   "source": [
    "# drop rows with any null values\n",
    "\n",
    "orders = orders.dropna()"
   ]
  },
  {
   "cell_type": "code",
   "execution_count": 210,
   "id": "4a36f83d-e660-4196-842f-d58360ec4539",
   "metadata": {},
   "outputs": [
    {
     "name": "stdout",
     "output_type": "stream",
     "text": [
      "\n",
      "---Orders---\n",
      "Shape: (96461, 8)\n",
      "Columns: ['order_id', 'customer_id', 'order_status', 'order_purchase_timestamp', 'order_approved_at', 'order_delivered_carrier_date', 'order_delivered_customer_date', 'order_estimated_delivery_date']\n",
      "Info:\n",
      "<class 'pandas.core.frame.DataFrame'>\n",
      "Index: 96461 entries, 0 to 99440\n",
      "Data columns (total 8 columns):\n",
      " #   Column                         Non-Null Count  Dtype \n",
      "---  ------                         --------------  ----- \n",
      " 0   order_id                       96461 non-null  object\n",
      " 1   customer_id                    96461 non-null  object\n",
      " 2   order_status                   96461 non-null  object\n",
      " 3   order_purchase_timestamp       96461 non-null  object\n",
      " 4   order_approved_at              96461 non-null  object\n",
      " 5   order_delivered_carrier_date   96461 non-null  object\n",
      " 6   order_delivered_customer_date  96461 non-null  object\n",
      " 7   order_estimated_delivery_date  96461 non-null  object\n",
      "dtypes: object(8)\n",
      "memory usage: 6.6+ MB\n",
      "None\n",
      "\n",
      "Missing values:\n",
      " order_id                         0\n",
      "customer_id                      0\n",
      "order_status                     0\n",
      "order_purchase_timestamp         0\n",
      "order_approved_at                0\n",
      "order_delivered_carrier_date     0\n",
      "order_delivered_customer_date    0\n",
      "order_estimated_delivery_date    0\n",
      "dtype: int64\n",
      "\n",
      "Duplicated rows: 0\n",
      "\n",
      "First 5 rows:\n",
      "                            order_id                       customer_id  \\\n",
      "0  e481f51cbdc54678b7cc49136f2d6af7  9ef432eb6251297304e76186b10a928d   \n",
      "1  53cdb2fc8bc7dce0b6741e2150273451  b0830fb4747a6c6d20dea0b8c802d7ef   \n",
      "2  47770eb9100c2d0c44946d9cf07ec65d  41ce2a54c0b03bf3443c3d931a367089   \n",
      "3  949d5b44dbf5de918fe9c16f97b45f8a  f88197465ea7920adcdbec7375364d82   \n",
      "4  ad21c59c0840e6cb83a9ceb5573f8159  8ab97904e6daea8866dbdbc4fb7aad2c   \n",
      "\n",
      "  order_status order_purchase_timestamp    order_approved_at  \\\n",
      "0    delivered      2017-10-02 10:56:33  2017-10-02 11:07:15   \n",
      "1    delivered      2018-07-24 20:41:37  2018-07-26 03:24:27   \n",
      "2    delivered      2018-08-08 08:38:49  2018-08-08 08:55:23   \n",
      "3    delivered      2017-11-18 19:28:06  2017-11-18 19:45:59   \n",
      "4    delivered      2018-02-13 21:18:39  2018-02-13 22:20:29   \n",
      "\n",
      "  order_delivered_carrier_date order_delivered_customer_date  \\\n",
      "0          2017-10-04 19:55:00           2017-10-10 21:25:13   \n",
      "1          2018-07-26 14:31:00           2018-08-07 15:27:45   \n",
      "2          2018-08-08 13:50:00           2018-08-17 18:06:29   \n",
      "3          2017-11-22 13:39:59           2017-12-02 00:28:42   \n",
      "4          2018-02-14 19:46:34           2018-02-16 18:17:02   \n",
      "\n",
      "  order_estimated_delivery_date  \n",
      "0           2017-10-18 00:00:00  \n",
      "1           2018-08-13 00:00:00  \n",
      "2           2018-09-04 00:00:00  \n",
      "3           2017-12-15 00:00:00  \n",
      "4           2018-02-26 00:00:00  \n"
     ]
    }
   ],
   "source": [
    "check_dataframe(orders, \"Orders\")"
   ]
  },
  {
   "cell_type": "code",
   "execution_count": 211,
   "id": "554a134c-197e-43b1-9403-849edd220efa",
   "metadata": {},
   "outputs": [],
   "source": [
    "# fill with NaN\n",
    "\n",
    "order_reviews=order_reviews.fillna(\"NaN\")"
   ]
  },
  {
   "cell_type": "code",
   "execution_count": 212,
   "id": "8a0c1d4a-e094-4b79-a0e7-0a6327069940",
   "metadata": {},
   "outputs": [
    {
     "name": "stdout",
     "output_type": "stream",
     "text": [
      "\n",
      "---Order Reviews---\n",
      "Shape: (99224, 7)\n",
      "Columns: ['review_id', 'order_id', 'review_score', 'review_comment_title', 'review_comment_message', 'review_creation_date', 'review_answer_timestamp']\n",
      "Info:\n",
      "<class 'pandas.core.frame.DataFrame'>\n",
      "RangeIndex: 99224 entries, 0 to 99223\n",
      "Data columns (total 7 columns):\n",
      " #   Column                   Non-Null Count  Dtype \n",
      "---  ------                   --------------  ----- \n",
      " 0   review_id                99224 non-null  object\n",
      " 1   order_id                 99224 non-null  object\n",
      " 2   review_score             99224 non-null  int64 \n",
      " 3   review_comment_title     99224 non-null  object\n",
      " 4   review_comment_message   99224 non-null  object\n",
      " 5   review_creation_date     99224 non-null  object\n",
      " 6   review_answer_timestamp  99224 non-null  object\n",
      "dtypes: int64(1), object(6)\n",
      "memory usage: 5.3+ MB\n",
      "None\n",
      "\n",
      "Missing values:\n",
      " review_id                  0\n",
      "order_id                   0\n",
      "review_score               0\n",
      "review_comment_title       0\n",
      "review_comment_message     0\n",
      "review_creation_date       0\n",
      "review_answer_timestamp    0\n",
      "dtype: int64\n",
      "\n",
      "Duplicated rows: 0\n",
      "\n",
      "First 5 rows:\n",
      "                           review_id                          order_id  \\\n",
      "0  7bc2406110b926393aa56f80a40eba40  73fc7af87114b39712e6da79b0a377eb   \n",
      "1  80e641a11e56f04c1ad469d5645fdfde  a548910a1c6147796b98fdf73dbeba33   \n",
      "2  228ce5500dc1d8e020d8d1322874b6f0  f9e4b658b201a9f2ecdecbb34bed034b   \n",
      "3  e64fb393e7b32834bb789ff8bb30750e  658677c97b385a9be170737859d3511b   \n",
      "4  f7c4243c7fe1938f181bec41a392bdeb  8e6bfb81e283fa7e4f11123a3fb894f1   \n",
      "\n",
      "   review_score review_comment_title  \\\n",
      "0             4                  NaN   \n",
      "1             5                  NaN   \n",
      "2             5                  NaN   \n",
      "3             5                  NaN   \n",
      "4             5                  NaN   \n",
      "\n",
      "                              review_comment_message review_creation_date  \\\n",
      "0                                                NaN  2018-01-18 00:00:00   \n",
      "1                                                NaN  2018-03-10 00:00:00   \n",
      "2                                                NaN  2018-02-17 00:00:00   \n",
      "3              Recebi bem antes do prazo estipulado.  2017-04-21 00:00:00   \n",
      "4  Parabéns lojas lannister adorei comprar pela I...  2018-03-01 00:00:00   \n",
      "\n",
      "  review_answer_timestamp  \n",
      "0     2018-01-18 21:46:59  \n",
      "1     2018-03-11 03:05:13  \n",
      "2     2018-02-18 14:36:24  \n",
      "3     2017-04-21 22:02:06  \n",
      "4     2018-03-02 10:26:53  \n"
     ]
    }
   ],
   "source": [
    "check_dataframe(order_reviews, \"Order Reviews\")"
   ]
  },
  {
   "cell_type": "code",
   "execution_count": 213,
   "id": "504295c8-6ac9-4376-bf26-bf957e448a11",
   "metadata": {},
   "outputs": [],
   "source": [
    "# drop rows with Null value\n",
    "\n",
    "products = products.dropna(subset=['product_category_name', 'product_name_lenght', \n",
    "                                   'product_description_lenght', 'product_photos_qty'])"
   ]
  },
  {
   "cell_type": "code",
   "execution_count": 214,
   "id": "d9ca4f4a-a813-48e9-8769-431cfec11f79",
   "metadata": {},
   "outputs": [
    {
     "name": "stdout",
     "output_type": "stream",
     "text": [
      "\n",
      "---Products---\n",
      "Shape: (32341, 9)\n",
      "Columns: ['product_id', 'product_category_name', 'product_name_lenght', 'product_description_lenght', 'product_photos_qty', 'product_weight_g', 'product_length_cm', 'product_height_cm', 'product_width_cm']\n",
      "Info:\n",
      "<class 'pandas.core.frame.DataFrame'>\n",
      "Index: 32341 entries, 0 to 32950\n",
      "Data columns (total 9 columns):\n",
      " #   Column                      Non-Null Count  Dtype  \n",
      "---  ------                      --------------  -----  \n",
      " 0   product_id                  32341 non-null  object \n",
      " 1   product_category_name       32341 non-null  object \n",
      " 2   product_name_lenght         32341 non-null  float64\n",
      " 3   product_description_lenght  32341 non-null  float64\n",
      " 4   product_photos_qty          32341 non-null  float64\n",
      " 5   product_weight_g            32340 non-null  float64\n",
      " 6   product_length_cm           32340 non-null  float64\n",
      " 7   product_height_cm           32340 non-null  float64\n",
      " 8   product_width_cm            32340 non-null  float64\n",
      "dtypes: float64(7), object(2)\n",
      "memory usage: 2.5+ MB\n",
      "None\n",
      "\n",
      "Missing values:\n",
      " product_id                    0\n",
      "product_category_name         0\n",
      "product_name_lenght           0\n",
      "product_description_lenght    0\n",
      "product_photos_qty            0\n",
      "product_weight_g              1\n",
      "product_length_cm             1\n",
      "product_height_cm             1\n",
      "product_width_cm              1\n",
      "dtype: int64\n",
      "\n",
      "Duplicated rows: 0\n",
      "\n",
      "First 5 rows:\n",
      "                          product_id  product_category_name  \\\n",
      "0  1e9e8ef04dbcff4541ed26657ea517e5             perfumaria   \n",
      "1  3aa071139cb16b67ca9e5dea641aaa2f                  artes   \n",
      "2  96bd76ec8810374ed1b65e291975717f          esporte_lazer   \n",
      "3  cef67bcfe19066a932b7673e239eb23d                  bebes   \n",
      "4  9dc1a7de274444849c219cff195d0b71  utilidades_domesticas   \n",
      "\n",
      "   product_name_lenght  product_description_lenght  product_photos_qty  \\\n",
      "0                 40.0                       287.0                 1.0   \n",
      "1                 44.0                       276.0                 1.0   \n",
      "2                 46.0                       250.0                 1.0   \n",
      "3                 27.0                       261.0                 1.0   \n",
      "4                 37.0                       402.0                 4.0   \n",
      "\n",
      "   product_weight_g  product_length_cm  product_height_cm  product_width_cm  \n",
      "0             225.0               16.0               10.0              14.0  \n",
      "1            1000.0               30.0               18.0              20.0  \n",
      "2             154.0               18.0                9.0              15.0  \n",
      "3             371.0               26.0                4.0              26.0  \n",
      "4             625.0               20.0               17.0              13.0  \n"
     ]
    }
   ],
   "source": [
    "check_dataframe(products, \"Products\")"
   ]
  },
  {
   "cell_type": "markdown",
   "id": "5d59cccd-f8e5-4356-85d2-31be9b2e0f51",
   "metadata": {},
   "source": [
    "## 06 Merge data"
   ]
  },
  {
   "cell_type": "code",
   "execution_count": 216,
   "id": "9e7a8b45-3930-4c25-b3bd-c9c2ca291fbf",
   "metadata": {},
   "outputs": [],
   "source": [
    "# Merge orders with customers\n",
    "orders_customers = pd.merge(orders, customer, on='customer_id', how='left')\n",
    "\n",
    "# Add order items\n",
    "orders_full = pd.merge(orders_customers, order_items, on='order_id', how='left')\n",
    "\n",
    "# Add product info\n",
    "orders_full = pd.merge(orders_full, products, on='product_id', how='left')\n",
    "\n",
    "# Add category translations\n",
    "orders_full = pd.merge(orders_full, product_categories, on='product_category_name', how='left')\n",
    "\n",
    "# Add payments\n",
    "orders_full = pd.merge(orders_full, order_payments, on='order_id', how='left')\n",
    "\n",
    "# Add reviews\n",
    "orders_full = pd.merge(orders_full, order_reviews, on='order_id', how='left')\n",
    "\n",
    "# Add sellers\n",
    "orders_full = pd.merge(orders_full, sellers, on='seller_id', how='left')\n"
   ]
  },
  {
   "cell_type": "code",
   "execution_count": 217,
   "id": "df45f8ba-e20c-44e2-a4c1-06ab3d8faca0",
   "metadata": {},
   "outputs": [
    {
     "name": "stdout",
     "output_type": "stream",
     "text": [
      "\n",
      "---Orders Full---\n",
      "Shape: (115706, 40)\n",
      "Columns: ['order_id', 'customer_id', 'order_status', 'order_purchase_timestamp', 'order_approved_at', 'order_delivered_carrier_date', 'order_delivered_customer_date', 'order_estimated_delivery_date', 'customer_unique_id', 'customer_zip_code_prefix', 'customer_city', 'customer_state', 'order_item_id', 'product_id', 'seller_id', 'shipping_limit_date', 'price', 'freight_value', 'product_category_name', 'product_name_lenght', 'product_description_lenght', 'product_photos_qty', 'product_weight_g', 'product_length_cm', 'product_height_cm', 'product_width_cm', 'product_category_name_english', 'payment_sequential', 'payment_type', 'payment_installments', 'payment_value', 'review_id', 'review_score', 'review_comment_title', 'review_comment_message', 'review_creation_date', 'review_answer_timestamp', 'seller_zip_code_prefix', 'seller_city', 'seller_state']\n",
      "Info:\n",
      "<class 'pandas.core.frame.DataFrame'>\n",
      "RangeIndex: 115706 entries, 0 to 115705\n",
      "Data columns (total 40 columns):\n",
      " #   Column                         Non-Null Count   Dtype  \n",
      "---  ------                         --------------   -----  \n",
      " 0   order_id                       115706 non-null  object \n",
      " 1   customer_id                    115706 non-null  object \n",
      " 2   order_status                   115706 non-null  object \n",
      " 3   order_purchase_timestamp       115706 non-null  object \n",
      " 4   order_approved_at              115706 non-null  object \n",
      " 5   order_delivered_carrier_date   115706 non-null  object \n",
      " 6   order_delivered_customer_date  115706 non-null  object \n",
      " 7   order_estimated_delivery_date  115706 non-null  object \n",
      " 8   customer_unique_id             115706 non-null  object \n",
      " 9   customer_zip_code_prefix       115706 non-null  int64  \n",
      " 10  customer_city                  115706 non-null  object \n",
      " 11  customer_state                 115706 non-null  object \n",
      " 12  order_item_id                  115706 non-null  int64  \n",
      " 13  product_id                     115706 non-null  object \n",
      " 14  seller_id                      115706 non-null  object \n",
      " 15  shipping_limit_date            115706 non-null  object \n",
      " 16  price                          115706 non-null  float64\n",
      " 17  freight_value                  115706 non-null  float64\n",
      " 18  product_category_name          114069 non-null  object \n",
      " 19  product_name_lenght            114069 non-null  float64\n",
      " 20  product_description_lenght     114069 non-null  float64\n",
      " 21  product_photos_qty             114069 non-null  float64\n",
      " 22  product_weight_g               114068 non-null  float64\n",
      " 23  product_length_cm              114068 non-null  float64\n",
      " 24  product_height_cm              114068 non-null  float64\n",
      " 25  product_width_cm               114068 non-null  float64\n",
      " 26  product_category_name_english  114046 non-null  object \n",
      " 27  payment_sequential             115703 non-null  float64\n",
      " 28  payment_type                   115703 non-null  object \n",
      " 29  payment_installments           115703 non-null  float64\n",
      " 30  payment_value                  115703 non-null  float64\n",
      " 31  review_id                      114845 non-null  object \n",
      " 32  review_score                   114845 non-null  float64\n",
      " 33  review_comment_title           114845 non-null  object \n",
      " 34  review_comment_message         114845 non-null  object \n",
      " 35  review_creation_date           114845 non-null  object \n",
      " 36  review_answer_timestamp        114845 non-null  object \n",
      " 37  seller_zip_code_prefix         115706 non-null  int64  \n",
      " 38  seller_city                    115706 non-null  object \n",
      " 39  seller_state                   115706 non-null  object \n",
      "dtypes: float64(13), int64(3), object(24)\n",
      "memory usage: 35.3+ MB\n",
      "None\n",
      "\n",
      "Missing values:\n",
      " order_id                            0\n",
      "customer_id                         0\n",
      "order_status                        0\n",
      "order_purchase_timestamp            0\n",
      "order_approved_at                   0\n",
      "order_delivered_carrier_date        0\n",
      "order_delivered_customer_date       0\n",
      "order_estimated_delivery_date       0\n",
      "customer_unique_id                  0\n",
      "customer_zip_code_prefix            0\n",
      "customer_city                       0\n",
      "customer_state                      0\n",
      "order_item_id                       0\n",
      "product_id                          0\n",
      "seller_id                           0\n",
      "shipping_limit_date                 0\n",
      "price                               0\n",
      "freight_value                       0\n",
      "product_category_name            1637\n",
      "product_name_lenght              1637\n",
      "product_description_lenght       1637\n",
      "product_photos_qty               1637\n",
      "product_weight_g                 1638\n",
      "product_length_cm                1638\n",
      "product_height_cm                1638\n",
      "product_width_cm                 1638\n",
      "product_category_name_english    1660\n",
      "payment_sequential                  3\n",
      "payment_type                        3\n",
      "payment_installments                3\n",
      "payment_value                       3\n",
      "review_id                         861\n",
      "review_score                      861\n",
      "review_comment_title              861\n",
      "review_comment_message            861\n",
      "review_creation_date              861\n",
      "review_answer_timestamp           861\n",
      "seller_zip_code_prefix              0\n",
      "seller_city                         0\n",
      "seller_state                        0\n",
      "dtype: int64\n",
      "\n",
      "Duplicated rows: 0\n",
      "\n",
      "First 5 rows:\n",
      "                            order_id                       customer_id  \\\n",
      "0  e481f51cbdc54678b7cc49136f2d6af7  9ef432eb6251297304e76186b10a928d   \n",
      "1  e481f51cbdc54678b7cc49136f2d6af7  9ef432eb6251297304e76186b10a928d   \n",
      "2  e481f51cbdc54678b7cc49136f2d6af7  9ef432eb6251297304e76186b10a928d   \n",
      "3  53cdb2fc8bc7dce0b6741e2150273451  b0830fb4747a6c6d20dea0b8c802d7ef   \n",
      "4  47770eb9100c2d0c44946d9cf07ec65d  41ce2a54c0b03bf3443c3d931a367089   \n",
      "\n",
      "  order_status order_purchase_timestamp    order_approved_at  \\\n",
      "0    delivered      2017-10-02 10:56:33  2017-10-02 11:07:15   \n",
      "1    delivered      2017-10-02 10:56:33  2017-10-02 11:07:15   \n",
      "2    delivered      2017-10-02 10:56:33  2017-10-02 11:07:15   \n",
      "3    delivered      2018-07-24 20:41:37  2018-07-26 03:24:27   \n",
      "4    delivered      2018-08-08 08:38:49  2018-08-08 08:55:23   \n",
      "\n",
      "  order_delivered_carrier_date order_delivered_customer_date  \\\n",
      "0          2017-10-04 19:55:00           2017-10-10 21:25:13   \n",
      "1          2017-10-04 19:55:00           2017-10-10 21:25:13   \n",
      "2          2017-10-04 19:55:00           2017-10-10 21:25:13   \n",
      "3          2018-07-26 14:31:00           2018-08-07 15:27:45   \n",
      "4          2018-08-08 13:50:00           2018-08-17 18:06:29   \n",
      "\n",
      "  order_estimated_delivery_date                customer_unique_id  \\\n",
      "0           2017-10-18 00:00:00  7c396fd4830fd04220f754e42b4e5bff   \n",
      "1           2017-10-18 00:00:00  7c396fd4830fd04220f754e42b4e5bff   \n",
      "2           2017-10-18 00:00:00  7c396fd4830fd04220f754e42b4e5bff   \n",
      "3           2018-08-13 00:00:00  af07308b275d755c9edb36a90c618231   \n",
      "4           2018-09-04 00:00:00  3a653a41f6f9fc3d2a113cf8398680e8   \n",
      "\n",
      "   customer_zip_code_prefix  ... payment_value  \\\n",
      "0                      3149  ...         18.12   \n",
      "1                      3149  ...          2.00   \n",
      "2                      3149  ...         18.59   \n",
      "3                     47813  ...        141.46   \n",
      "4                     75265  ...        179.12   \n",
      "\n",
      "                          review_id  review_score review_comment_title  \\\n",
      "0  a54f0611adc9ed256b57ede6b6eb5114           4.0                  NaN   \n",
      "1  a54f0611adc9ed256b57ede6b6eb5114           4.0                  NaN   \n",
      "2  a54f0611adc9ed256b57ede6b6eb5114           4.0                  NaN   \n",
      "3  8d5266042046a06655c8db133d120ba5           4.0     Muito boa a loja   \n",
      "4  e73b67b67587f7644d5bd1a52deb1b01           5.0                  NaN   \n",
      "\n",
      "                              review_comment_message review_creation_date  \\\n",
      "0  Não testei o produto ainda, mas ele veio corre...  2017-10-11 00:00:00   \n",
      "1  Não testei o produto ainda, mas ele veio corre...  2017-10-11 00:00:00   \n",
      "2  Não testei o produto ainda, mas ele veio corre...  2017-10-11 00:00:00   \n",
      "3                               Muito bom o produto.  2018-08-08 00:00:00   \n",
      "4                                                NaN  2018-08-18 00:00:00   \n",
      "\n",
      "   review_answer_timestamp  seller_zip_code_prefix     seller_city  \\\n",
      "0      2017-10-12 03:43:48                    9350            maua   \n",
      "1      2017-10-12 03:43:48                    9350            maua   \n",
      "2      2017-10-12 03:43:48                    9350            maua   \n",
      "3      2018-08-08 18:37:50                   31570  belo horizonte   \n",
      "4      2018-08-22 19:07:58                   14840         guariba   \n",
      "\n",
      "   seller_state  \n",
      "0            SP  \n",
      "1            SP  \n",
      "2            SP  \n",
      "3            SP  \n",
      "4            SP  \n",
      "\n",
      "[5 rows x 40 columns]\n"
     ]
    }
   ],
   "source": [
    "check_dataframe(orders_full, \"Orders Full\")"
   ]
  },
  {
   "cell_type": "markdown",
   "id": "bc75483f-1b55-4d99-a58a-a54945bece69",
   "metadata": {},
   "source": [
    "## 07 Exporting Data "
   ]
  },
  {
   "cell_type": "code",
   "execution_count": 222,
   "id": "957dcc05-b680-4d1e-b338-ea0968cb312b",
   "metadata": {},
   "outputs": [],
   "source": [
    "# Export df_orders_full - Merge\n",
    "\n",
    "orders_full.to_csv(os.path.join(data_path, '02 Data','Prepared Data', 'check_merge_orders_full.csv'))\n"
   ]
  },
  {
   "cell_type": "code",
   "execution_count": null,
   "id": "388135c1-ab14-45cf-962b-8e3f85ed76d7",
   "metadata": {},
   "outputs": [],
   "source": []
  }
 ],
 "metadata": {
  "kernelspec": {
   "display_name": "Python [conda env:base] *",
   "language": "python",
   "name": "conda-base-py"
  },
  "language_info": {
   "codemirror_mode": {
    "name": "ipython",
    "version": 3
   },
   "file_extension": ".py",
   "mimetype": "text/x-python",
   "name": "python",
   "nbconvert_exporter": "python",
   "pygments_lexer": "ipython3",
   "version": "3.12.7"
  }
 },
 "nbformat": 4,
 "nbformat_minor": 5
}
